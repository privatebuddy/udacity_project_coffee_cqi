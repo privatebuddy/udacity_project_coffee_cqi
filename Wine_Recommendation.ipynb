{
  "nbformat": 4,
  "nbformat_minor": 0,
  "metadata": {
    "colab": {
      "name": "Wine Recommendation.ipynb",
      "provenance": []
    },
    "kernelspec": {
      "name": "python3",
      "display_name": "Python 3"
    },
    "language_info": {
      "name": "python"
    }
  },
  "cells": [
    {
      "cell_type": "code",
      "metadata": {
        "id": "cTGzSQeh-aRB"
      },
      "source": [
        "from google.colab import drive\n",
        "import numpy as np\n",
        "import pandas as pd\n",
        "import seaborn as sns\n",
        "import matplotlib.pyplot as plt"
      ],
      "execution_count": null,
      "outputs": []
    },
    {
      "cell_type": "code",
      "metadata": {
        "id": "JCTtxR1Y-uGq"
      },
      "source": [
        "drive.mount('/content/drive', force_remount=True) "
      ],
      "execution_count": null,
      "outputs": []
    },
    {
      "cell_type": "code",
      "metadata": {
        "id": "bH0dXBhA-yYh"
      },
      "source": [
        "wine_review = pd.read_csv('/content/drive/MyDrive/StudyData/wine_data.csv')"
      ],
      "execution_count": null,
      "outputs": []
    },
    {
      "cell_type": "code",
      "metadata": {
        "id": "yAkBpP2Q_AMj"
      },
      "source": [
        "wine_review.head(5)"
      ],
      "execution_count": null,
      "outputs": []
    },
    {
      "cell_type": "markdown",
      "metadata": {
        "id": "H4__UwMOqZWD"
      },
      "source": [
        "Question \n",
        "\n",
        "\n",
        "1.   Is higher price lead to higher score? - no, autralia wine with 100 points is much cheper that france 3300 usd that also 100 points\n",
        "2.   Is description word, price effect point score ? - description length isn't effect much on price or point\n",
        "3.   Can description and price predict point ? \n",
        "\n"
      ]
    },
    {
      "cell_type": "markdown",
      "metadata": {
        "id": "uQQVUtpDr7lR"
      },
      "source": [
        "Step 1. Clean Data"
      ]
    },
    {
      "cell_type": "code",
      "metadata": {
        "colab": {
          "base_uri": "https://localhost:8080/"
        },
        "id": "b2azjFRMsCwM",
        "outputId": "6a933c9c-b7dc-42b0-d1e6-1db892c1cb62"
      },
      "source": [
        "wine_review.columns"
      ],
      "execution_count": null,
      "outputs": [
        {
          "output_type": "execute_result",
          "data": {
            "text/plain": [
              "Index(['Unnamed: 0', 'country', 'description', 'designation', 'points',\n",
              "       'price', 'province', 'region_1', 'region_2', 'taster_name',\n",
              "       'taster_twitter_handle', 'title', 'variety', 'winery'],\n",
              "      dtype='object')"
            ]
          },
          "metadata": {
            "tags": []
          },
          "execution_count": 5
        }
      ]
    },
    {
      "cell_type": "code",
      "metadata": {
        "id": "_VWw3xIZACy4"
      },
      "source": [
        "# Drop unuse Columns\n",
        "wine_review = wine_review.drop(columns=['Unnamed: 0'])"
      ],
      "execution_count": null,
      "outputs": []
    },
    {
      "cell_type": "code",
      "metadata": {
        "id": "qYMuaW34EMT2",
        "colab": {
          "base_uri": "https://localhost:8080/"
        },
        "outputId": "2e523f8d-165d-4f6b-8540-f44d04d1fa47"
      },
      "source": [
        "# See missing value\n",
        "wine_review.isnull().sum()"
      ],
      "execution_count": null,
      "outputs": [
        {
          "output_type": "execute_result",
          "data": {
            "text/plain": [
              "country                     63\n",
              "description                  0\n",
              "designation              37465\n",
              "points                       0\n",
              "price                     8996\n",
              "province                    63\n",
              "region_1                 21247\n",
              "region_2                 79460\n",
              "taster_name              26244\n",
              "taster_twitter_handle    31213\n",
              "title                        0\n",
              "variety                      1\n",
              "winery                       0\n",
              "dtype: int64"
            ]
          },
          "metadata": {
            "tags": []
          },
          "execution_count": 7
        }
      ]
    },
    {
      "cell_type": "code",
      "metadata": {
        "id": "tyKC1C1j_ElB"
      },
      "source": [
        "# Clean na\n",
        "\n",
        "# Drop all rows that isn't contain price due to the wine price is so vary can't be replace with mean\n",
        "# 1. Price, point can't be replace with mean because the price is so vary\n",
        "# 2. Drop all na country and variety because it can't replacible \n",
        "wine_review_clean = wine_review.dropna(subset=['price','points','country','variety'])\n",
        "wine_review_clean.isnull().sum()"
      ],
      "execution_count": null,
      "outputs": []
    },
    {
      "cell_type": "code",
      "metadata": {
        "id": "rRm5Dk4yslL-"
      },
      "source": [
        "# Clean description text\n",
        "wine_review_clean[\"designation\"].fillna(\"No Designation\", inplace = True)\n",
        "wine_review_clean[\"region_1\"].fillna(\"No Information\", inplace = True)\n",
        "wine_review_clean[\"region_2\"].fillna(\"No Information\", inplace = True)\n",
        "wine_review_clean[\"taster_name\"].fillna(\"No Tester\", inplace = True)\n",
        "wine_review_clean[\"taster_twitter_handle\"].fillna(\"No Tweeter\", inplace = True)\n",
        "wine_review_clean.isnull().sum()"
      ],
      "execution_count": null,
      "outputs": []
    },
    {
      "cell_type": "code",
      "metadata": {
        "id": "epq-9pV9FXBv"
      },
      "source": [
        "wine_review_clean.describe()"
      ],
      "execution_count": null,
      "outputs": []
    },
    {
      "cell_type": "markdown",
      "metadata": {
        "id": "_oHOBsfstB_e"
      },
      "source": [
        "We want to add description lenght to see it relation to point and price "
      ]
    },
    {
      "cell_type": "code",
      "metadata": {
        "id": "WPNr7epNtKe6"
      },
      "source": [
        "wine_review_clean['description_lenght'] = wine_review_clean['description'].str.len()\n",
        "wine_review_clean"
      ],
      "execution_count": null,
      "outputs": []
    },
    {
      "cell_type": "code",
      "metadata": {
        "colab": {
          "base_uri": "https://localhost:8080/",
          "height": 305
        },
        "id": "pgfm3LMUE3By",
        "outputId": "bd3264e3-5f30-4ca8-cdac-0496e13cb330"
      },
      "source": [
        "heat = wine_review_clean.corr()\n",
        "sns.heatmap(heat)\n",
        "sns.heatmap(heat, annot = True)\n",
        "plt.show()"
      ],
      "execution_count": null,
      "outputs": [
        {
          "output_type": "display_data",
          "data": {
            "image/png": "[encoded data removed]",
            "text/plain": [
              "<Figure size 432x288 with 3 Axes>"
            ]
          },
          "metadata": {
            "tags": [],
            "needs_background": "light"
          }
        }
      ]
    },
    {
      "cell_type": "markdown",
      "metadata": {
        "id": "N-iUHq-Fu1KS"
      },
      "source": [
        "So they are some corelation between point price description_length"
      ]
    },
    {
      "cell_type": "code",
      "metadata": {
        "colab": {
          "base_uri": "https://localhost:8080/",
          "height": 279
        },
        "id": "KPOQQJX2E8RO",
        "outputId": "daa7db24-c774-4875-a256-9f3fa4ea65c6"
      },
      "source": [
        "wine_review_clean.plot.scatter(x='price', y='points')\n",
        "plt.show()"
      ],
      "execution_count": null,
      "outputs": [
        {
          "output_type": "display_data",
          "data": {
            "image/png": "[encoded data removed]",
            "text/plain": [
              "<Figure size 432x288 with 1 Axes>"
            ]
          },
          "metadata": {
            "tags": [],
            "needs_background": "light"
          }
        }
      ]
    },
    {
      "cell_type": "markdown",
      "metadata": {
        "id": "zb741ThTvB7g"
      },
      "source": [
        "Some high price wine isn't mean they will get higher point"
      ]
    },
    {
      "cell_type": "code",
      "metadata": {
        "id": "LaOXWTHgGDSX",
        "colab": {
          "base_uri": "https://localhost:8080/"
        },
        "outputId": "152babd7-0b8a-47b0-cf2a-367365c61120"
      },
      "source": [
        "wine_review_clean['country'].value_counts().head(10)"
      ],
      "execution_count": null,
      "outputs": [
        {
          "output_type": "execute_result",
          "data": {
            "text/plain": [
              "US           54265\n",
              "France       17776\n",
              "Italy        16914\n",
              "Spain         6573\n",
              "Portugal      4875\n",
              "Chile         4415\n",
              "Argentina     3756\n",
              "Austria       2799\n",
              "Australia     2294\n",
              "Germany       2120\n",
              "Name: country, dtype: int64"
            ]
          },
          "metadata": {
            "tags": []
          },
          "execution_count": 31
        }
      ]
    },
    {
      "cell_type": "code",
      "metadata": {
        "colab": {
          "base_uri": "https://localhost:8080/",
          "height": 512
        },
        "id": "_Hll4vyUHNAm",
        "outputId": "4e9e05b5-d2de-4c63-f539-1df887c7dd21"
      },
      "source": [
        "plt.subplots(figsize=(13,7))\n",
        "sns.countplot('country',data=wine_review_clean,order=wine_review_clean['country'].value_counts().head(10).index)\n",
        "plt.title('Number Of Wine Review By Country')\n",
        "plt.show()"
      ],
      "execution_count": null,
      "outputs": [
        {
          "output_type": "stream",
          "text": [
            "/usr/local/lib/python3.7/dist-packages/seaborn/_decorators.py:43: FutureWarning: Pass the following variable as a keyword arg: x. From version 0.12, the only valid positional argument will be `data`, and passing other arguments without an explicit keyword will result in an error or misinterpretation.\n",
            "  FutureWarning\n"
          ],
          "name": "stderr"
        },
        {
          "output_type": "display_data",
          "data": {
            "image/png": "[encoded data removed]",
            "text/plain": [
              "<Figure size 936x504 with 1 Axes>"
            ]
          },
          "metadata": {
            "tags": [],
            "needs_background": "light"
          }
        }
      ]
    },
    {
      "cell_type": "markdown",
      "metadata": {
        "id": "eQzxZmg6viRo"
      },
      "source": [
        "Pinot Noir is very popular among reviewer "
      ]
    },
    {
      "cell_type": "code",
      "metadata": {
        "colab": {
          "base_uri": "https://localhost:8080/",
          "height": 388
        },
        "id": "Scc73DmfwMBc",
        "outputId": "5e1046de-ec9d-4a9a-c72b-24585ca61234"
      },
      "source": [
        "grouping_cp = wine_review_clean.groupby(['country'])['price'].max().sort_values(ascending=False).to_frame()[:10]\n",
        "grouping_cp"
      ],
      "execution_count": null,
      "outputs": [
        {
          "output_type": "execute_result",
          "data": {
            "text/html": [
              "<div>\n",
              "<style scoped>\n",
              "    .dataframe tbody tr th:only-of-type {\n",
              "        vertical-align: middle;\n",
              "    }\n",
              "\n",
              "    .dataframe tbody tr th {\n",
              "        vertical-align: top;\n",
              "    }\n",
              "\n",
              "    .dataframe thead th {\n",
              "        text-align: right;\n",
              "    }\n",
              "</style>\n",
              "<table border=\"1\" class=\"dataframe\">\n",
              "  <thead>\n",
              "    <tr style=\"text-align: right;\">\n",
              "      <th></th>\n",
              "      <th>price</th>\n",
              "    </tr>\n",
              "    <tr>\n",
              "      <th>country</th>\n",
              "      <th></th>\n",
              "    </tr>\n",
              "  </thead>\n",
              "  <tbody>\n",
              "    <tr>\n",
              "      <th>France</th>\n",
              "      <td>3300.0</td>\n",
              "    </tr>\n",
              "    <tr>\n",
              "      <th>US</th>\n",
              "      <td>2013.0</td>\n",
              "    </tr>\n",
              "    <tr>\n",
              "      <th>Austria</th>\n",
              "      <td>1100.0</td>\n",
              "    </tr>\n",
              "    <tr>\n",
              "      <th>Portugal</th>\n",
              "      <td>1000.0</td>\n",
              "    </tr>\n",
              "    <tr>\n",
              "      <th>Italy</th>\n",
              "      <td>900.0</td>\n",
              "    </tr>\n",
              "    <tr>\n",
              "      <th>Australia</th>\n",
              "      <td>850.0</td>\n",
              "    </tr>\n",
              "    <tr>\n",
              "      <th>Germany</th>\n",
              "      <td>775.0</td>\n",
              "    </tr>\n",
              "    <tr>\n",
              "      <th>Spain</th>\n",
              "      <td>770.0</td>\n",
              "    </tr>\n",
              "    <tr>\n",
              "      <th>Hungary</th>\n",
              "      <td>764.0</td>\n",
              "    </tr>\n",
              "    <tr>\n",
              "      <th>Chile</th>\n",
              "      <td>400.0</td>\n",
              "    </tr>\n",
              "  </tbody>\n",
              "</table>\n",
              "</div>"
            ],
            "text/plain": [
              "            price\n",
              "country          \n",
              "France     3300.0\n",
              "US         2013.0\n",
              "Austria    1100.0\n",
              "Portugal   1000.0\n",
              "Italy       900.0\n",
              "Australia   850.0\n",
              "Germany     775.0\n",
              "Spain       770.0\n",
              "Hungary     764.0\n",
              "Chile       400.0"
            ]
          },
          "metadata": {
            "tags": []
          },
          "execution_count": 42
        }
      ]
    },
    {
      "cell_type": "code",
      "metadata": {
        "colab": {
          "base_uri": "https://localhost:8080/",
          "height": 298
        },
        "id": "CEg9MBV6Jx5I",
        "outputId": "3f9b4597-e7c1-4579-decd-99baebbb071f"
      },
      "source": [
        "expensive_plot = sns.barplot(x = grouping_cp['price'], y = grouping_cp.index, palette= 'colorblind')\n",
        "expensive_plot.set_title('Most expensive wine in country')\n",
        "expensive_plot.set_ylabel('Country')\n",
        "expensive_plot.set_xlabel('')"
      ],
      "execution_count": null,
      "outputs": [
        {
          "output_type": "execute_result",
          "data": {
            "text/plain": [
              "Text(0.5, 0, '')"
            ]
          },
          "metadata": {
            "tags": []
          },
          "execution_count": 43
        },
        {
          "output_type": "display_data",
          "data": {
            "image/png": "[encoded data removed]",
            "text/plain": [
              "<Figure size 432x288 with 1 Axes>"
            ]
          },
          "metadata": {
            "tags": [],
            "needs_background": "light"
          }
        }
      ]
    },
    {
      "cell_type": "markdown",
      "metadata": {
        "id": "D7gBt0TFwaGB"
      },
      "source": [
        "French wine is so expensive "
      ]
    },
    {
      "cell_type": "code",
      "metadata": {
        "colab": {
          "base_uri": "https://localhost:8080/",
          "height": 296
        },
        "id": "ugvv_iVrImav",
        "outputId": "2544fd91-b806-4f25-e69e-6511633bb116"
      },
      "source": [
        "sns.scatterplot(data=wine_review_clean, x='price', y=\"country\")"
      ],
      "execution_count": null,
      "outputs": [
        {
          "output_type": "execute_result",
          "data": {
            "text/plain": [
              "<matplotlib.axes._subplots.AxesSubplot at 0x7fcc06817610>"
            ]
          },
          "metadata": {
            "tags": []
          },
          "execution_count": 49
        },
        {
          "output_type": "display_data",
          "data": {
            "image/png": "[encoded data removed]",
            "text/plain": [
              "<Figure size 432x288 with 1 Axes>"
            ]
          },
          "metadata": {
            "tags": [],
            "needs_background": "light"
          }
        }
      ]
    },
    {
      "cell_type": "markdown",
      "metadata": {
        "id": "ew5UyUQYw7MQ"
      },
      "source": [
        "Let's see points stat"
      ]
    },
    {
      "cell_type": "code",
      "metadata": {
        "colab": {
          "base_uri": "https://localhost:8080/",
          "height": 296
        },
        "id": "ZgvvejukxoY0",
        "outputId": "f00ac55d-73f2-4186-e8b9-ed0a29433ed2"
      },
      "source": [
        "sns.scatterplot(data=wine_review_clean[wine_review_clean['points'] > 90], x='points', y=\"country\")"
      ],
      "execution_count": null,
      "outputs": [
        {
          "output_type": "execute_result",
          "data": {
            "text/plain": [
              "<matplotlib.axes._subplots.AxesSubplot at 0x7fcc06a04510>"
            ]
          },
          "metadata": {
            "tags": []
          },
          "execution_count": 55
        },
        {
          "output_type": "display_data",
          "data": {
            "image/png": "[encoded data removed]",
            "text/plain": [
              "<Figure size 432x288 with 1 Axes>"
            ]
          },
          "metadata": {
            "tags": [],
            "needs_background": "light"
          }
        }
      ]
    },
    {
      "cell_type": "code",
      "metadata": {
        "colab": {
          "base_uri": "https://localhost:8080/",
          "height": 388
        },
        "id": "qvblyZToyQwv",
        "outputId": "8fa85b8c-69ad-4e7c-b808-e5181d737995"
      },
      "source": [
        " aa = wine_review.groupby(['country'])['points'].max().sort_values(ascending=False).to_frame()[:10]\n",
        " aa"
      ],
      "execution_count": null,
      "outputs": [
        {
          "output_type": "execute_result",
          "data": {
            "text/html": [
              "<div>\n",
              "<style scoped>\n",
              "    .dataframe tbody tr th:only-of-type {\n",
              "        vertical-align: middle;\n",
              "    }\n",
              "\n",
              "    .dataframe tbody tr th {\n",
              "        vertical-align: top;\n",
              "    }\n",
              "\n",
              "    .dataframe thead th {\n",
              "        text-align: right;\n",
              "    }\n",
              "</style>\n",
              "<table border=\"1\" class=\"dataframe\">\n",
              "  <thead>\n",
              "    <tr style=\"text-align: right;\">\n",
              "      <th></th>\n",
              "      <th>points</th>\n",
              "    </tr>\n",
              "    <tr>\n",
              "      <th>country</th>\n",
              "      <th></th>\n",
              "    </tr>\n",
              "  </thead>\n",
              "  <tbody>\n",
              "    <tr>\n",
              "      <th>Italy</th>\n",
              "      <td>100</td>\n",
              "    </tr>\n",
              "    <tr>\n",
              "      <th>US</th>\n",
              "      <td>100</td>\n",
              "    </tr>\n",
              "    <tr>\n",
              "      <th>Australia</th>\n",
              "      <td>100</td>\n",
              "    </tr>\n",
              "    <tr>\n",
              "      <th>France</th>\n",
              "      <td>100</td>\n",
              "    </tr>\n",
              "    <tr>\n",
              "      <th>Portugal</th>\n",
              "      <td>100</td>\n",
              "    </tr>\n",
              "    <tr>\n",
              "      <th>Spain</th>\n",
              "      <td>98</td>\n",
              "    </tr>\n",
              "    <tr>\n",
              "      <th>Germany</th>\n",
              "      <td>98</td>\n",
              "    </tr>\n",
              "    <tr>\n",
              "      <th>Argentina</th>\n",
              "      <td>97</td>\n",
              "    </tr>\n",
              "    <tr>\n",
              "      <th>Austria</th>\n",
              "      <td>97</td>\n",
              "    </tr>\n",
              "    <tr>\n",
              "      <th>Hungary</th>\n",
              "      <td>97</td>\n",
              "    </tr>\n",
              "  </tbody>\n",
              "</table>\n",
              "</div>"
            ],
            "text/plain": [
              "           points\n",
              "country          \n",
              "Italy         100\n",
              "US            100\n",
              "Australia     100\n",
              "France        100\n",
              "Portugal      100\n",
              "Spain          98\n",
              "Germany        98\n",
              "Argentina      97\n",
              "Austria        97\n",
              "Hungary        97"
            ]
          },
          "metadata": {
            "tags": []
          },
          "execution_count": 90
        }
      ]
    },
    {
      "cell_type": "code",
      "metadata": {
        "colab": {
          "base_uri": "https://localhost:8080/",
          "height": 234
        },
        "id": "ji46G_Vi3xQB",
        "outputId": "32bcbcb5-2bbb-4658-b343-758185638158"
      },
      "source": [
        " bb = wine_review[wine_review['points'] > 99].groupby(['country'])['price'].max().sort_values(ascending=False).to_frame()[:10]\n",
        " bb"
      ],
      "execution_count": null,
      "outputs": [
        {
          "output_type": "execute_result",
          "data": {
            "text/html": [
              "<div>\n",
              "<style scoped>\n",
              "    .dataframe tbody tr th:only-of-type {\n",
              "        vertical-align: middle;\n",
              "    }\n",
              "\n",
              "    .dataframe tbody tr th {\n",
              "        vertical-align: top;\n",
              "    }\n",
              "\n",
              "    .dataframe thead th {\n",
              "        text-align: right;\n",
              "    }\n",
              "</style>\n",
              "<table border=\"1\" class=\"dataframe\">\n",
              "  <thead>\n",
              "    <tr style=\"text-align: right;\">\n",
              "      <th></th>\n",
              "      <th>price</th>\n",
              "    </tr>\n",
              "    <tr>\n",
              "      <th>country</th>\n",
              "      <th></th>\n",
              "    </tr>\n",
              "  </thead>\n",
              "  <tbody>\n",
              "    <tr>\n",
              "      <th>France</th>\n",
              "      <td>1500.0</td>\n",
              "    </tr>\n",
              "    <tr>\n",
              "      <th>Portugal</th>\n",
              "      <td>650.0</td>\n",
              "    </tr>\n",
              "    <tr>\n",
              "      <th>Italy</th>\n",
              "      <td>550.0</td>\n",
              "    </tr>\n",
              "    <tr>\n",
              "      <th>US</th>\n",
              "      <td>450.0</td>\n",
              "    </tr>\n",
              "    <tr>\n",
              "      <th>Australia</th>\n",
              "      <td>350.0</td>\n",
              "    </tr>\n",
              "  </tbody>\n",
              "</table>\n",
              "</div>"
            ],
            "text/plain": [
              "            price\n",
              "country          \n",
              "France     1500.0\n",
              "Portugal    650.0\n",
              "Italy       550.0\n",
              "US          450.0\n",
              "Australia   350.0"
            ]
          },
          "metadata": {
            "tags": []
          },
          "execution_count": 93
        }
      ]
    },
    {
      "cell_type": "markdown",
      "metadata": {
        "id": "tw5YH0LV26N6"
      },
      "source": [
        "**Australia wine price is much cheaper than France with highest score so it can be conclude that expensive wine isn't always higher points**"
      ]
    },
    {
      "cell_type": "code",
      "metadata": {
        "colab": {
          "base_uri": "https://localhost:8080/",
          "height": 298
        },
        "id": "jdCdWL7cKU01",
        "outputId": "1bb22961-1390-42c4-c608-a102073c832a"
      },
      "source": [
        "sort_value_wine = wine_review_clean.groupby(['country'])['description_lenght'].max().sort_values(ascending=False).to_frame()[:10]\n",
        "rate_wine_plot = sns.barplot(x = sort_value_wine['description_lenght'], y = sort_value_wine.index, palette= 'colorblind')\n",
        "rate_wine_plot.set_title('Most descriptive wine')\n",
        "rate_wine_plot.set_ylabel('Country')\n",
        "rate_wine_plot.set_xlabel('')"
      ],
      "execution_count": null,
      "outputs": [
        {
          "output_type": "execute_result",
          "data": {
            "text/plain": [
              "Text(0.5, 0, '')"
            ]
          },
          "metadata": {
            "tags": []
          },
          "execution_count": 94
        },
        {
          "output_type": "display_data",
          "data": {
            "image/png": "[encoded data removed]",
            "text/plain": [
              "<Figure size 432x288 with 1 Axes>"
            ]
          },
          "metadata": {
            "tags": [],
            "needs_background": "light"
          }
        }
      ]
    },
    {
      "cell_type": "code",
      "metadata": {
        "colab": {
          "base_uri": "https://localhost:8080/",
          "height": 279
        },
        "id": "8zzDZSPE53gm",
        "outputId": "22e55718-58c2-458a-b34e-74d4555e9452"
      },
      "source": [
        "wine_review_clean.plot.scatter(x='points', y='description_lenght')\n",
        "plt.show()"
      ],
      "execution_count": null,
      "outputs": [
        {
          "output_type": "display_data",
          "data": {
            "image/png": "[encoded data removed]",
            "text/plain": [
              "<Figure size 432x288 with 1 Axes>"
            ]
          },
          "metadata": {
            "tags": [],
            "needs_background": "light"
          }
        }
      ]
    },
    {
      "cell_type": "markdown",
      "metadata": {
        "id": "uV70yTac6CUk"
      },
      "source": [
        "We can see that with 100 score can be less description length"
      ]
    },
    {
      "cell_type": "code",
      "metadata": {
        "colab": {
          "base_uri": "https://localhost:8080/",
          "height": 279
        },
        "id": "cJh4sRfb6NcU",
        "outputId": "36242392-b5b8-43ee-9c0e-97fd83685185"
      },
      "source": [
        "wine_review_clean.plot.scatter(x='price', y='description_lenght')\n",
        "plt.show()"
      ],
      "execution_count": null,
      "outputs": [
        {
          "output_type": "display_data",
          "data": {
            "image/png": "[encoded data removed]",
            "text/plain": [
              "<Figure size 432x288 with 1 Axes>"
            ]
          },
          "metadata": {
            "tags": [],
            "needs_background": "light"
          }
        }
      ]
    },
    {
      "cell_type": "markdown",
      "metadata": {
        "id": "4pOsqIct6YnK"
      },
      "source": [
        "Alot of description also not lead to higher price"
      ]
    },
    {
      "cell_type": "markdown",
      "metadata": {
        "id": "H0CXjHUH66Dh"
      },
      "source": [
        "So we can conclude that description length isn't effect much on price or point "
      ]
    },
    {
      "cell_type": "markdown",
      "metadata": {
        "id": "iE8TLpYk7OTE"
      },
      "source": [
        "Let's try Data pipeline"
      ]
    },
    {
      "cell_type": "code",
      "metadata": {
        "id": "yb0Op3JI7EOB"
      },
      "source": [
        "from sklearn.linear_model import LinearRegression\n",
        "from sklearn.metrics import r2_score\n",
        "from sklearn.model_selection import train_test_split"
      ],
      "execution_count": null,
      "outputs": []
    },
    {
      "cell_type": "code",
      "metadata": {
        "id": "PVgNOdbF8pw0"
      },
      "source": [
        "def load_data():\n",
        "    raw_data = wine_review_clean[['points','price','description_lenght']]\n",
        "    return raw_data"
      ],
      "execution_count": null,
      "outputs": []
    },
    {
      "cell_type": "code",
      "metadata": {
        "id": "DhPBlfxs9kps"
      },
      "source": [
        "def extract_feature(df):\n",
        "    label = np.log(df['points'])\n",
        "    data = df.drop('points', axis=1)\n",
        "    return data, label"
      ],
      "execution_count": null,
      "outputs": []
    },
    {
      "cell_type": "code",
      "metadata": {
        "id": "fvDQ29cS9wgt"
      },
      "source": [
        "def split_train_test(df):\n",
        "    train_df, test_df = train_test_split(df, test_size=0.3, random_state=2020, shuffle=True)\n",
        "    return train_df, test_df"
      ],
      "execution_count": null,
      "outputs": []
    },
    {
      "cell_type": "code",
      "metadata": {
        "id": "Q2RCbOGl9yd8"
      },
      "source": [
        "def train_model(feat, label):\n",
        "\n",
        "    # Gradient Boosting\n",
        "    # model = GradientBoostingRegressor(random_state=2020)\n",
        "\n",
        "    # Decision Tree\n",
        "    # model = tree.DecisionTreeRegressor(max_depth=20, random_state=200)\n",
        "\n",
        "    # Linear Regression\n",
        "    model = LinearRegression()\n",
        "    model.fit(feat, label)\n",
        "\n",
        "    return model"
      ],
      "execution_count": null,
      "outputs": []
    },
    {
      "cell_type": "code",
      "metadata": {
        "id": "PxQbbG3J94EK"
      },
      "source": [
        "def rmse(predict, test_label):\n",
        "    diff = predict - test_label\n",
        "    return np.sqrt(sum(diff ** 2) / len(diff))"
      ],
      "execution_count": null,
      "outputs": []
    },
    {
      "cell_type": "code",
      "metadata": {
        "id": "I-mH9VAu957F"
      },
      "source": [
        "def run_pipeline():\n",
        "    # Get data\n",
        "    raw_data_df = load_data()\n",
        "    # Clean\n",
        "    # clean_data_df = clean_data(raw_data_df)\n",
        "\n",
        "    # Separate Train, Test\n",
        "    train_df, test_df = split_train_test(raw_data_df)\n",
        "\n",
        "    # Extract feature\n",
        "    train_feat, train_label = extract_feature(train_df)\n",
        "    test_feat, test_label = extract_feature(test_df)\n",
        "\n",
        "    # Train Model\n",
        "    model = train_model(train_feat, train_label)\n",
        "\n",
        "    # Predict Test\n",
        "    predict = model.predict(test_feat)\n",
        "    #accuracy = eval_acc(predict, test_label)\n",
        "\n",
        "    error = rmse(predict, test_label)\n",
        "\n",
        "    # error_evl = eval_r2(predict, test_label)\n",
        "\n",
        "    # GradientBoostingRegressor : 19271650.040928077\n",
        "    # RandomForestRegressor : 8787802.622595124\n",
        "    # Linear Regression: 26824990.764228985\n",
        "    # return  train_df.boxplot()\n",
        "    print(error)\n",
        "    return model"
      ],
      "execution_count": null,
      "outputs": []
    },
    {
      "cell_type": "code",
      "metadata": {
        "colab": {
          "base_uri": "https://localhost:8080/"
        },
        "id": "0XjM08BH978g",
        "outputId": "fad4ed70-9710-4798-e387-5ec7102a4e3c"
      },
      "source": [
        "use_model = run_pipeline()"
      ],
      "execution_count": null,
      "outputs": [
        {
          "output_type": "stream",
          "text": [
            "0.026614897119800328\n"
          ],
          "name": "stdout"
        }
      ]
    },
    {
      "cell_type": "code",
      "metadata": {
        "colab": {
          "base_uri": "https://localhost:8080/"
        },
        "id": "R6QCqZ1i-nNW",
        "outputId": "4f23bc24-d9e0-4753-c2d2-1336e7dde44f"
      },
      "source": [
        "description_lenght = 500\n",
        "price = 300\n",
        "\n",
        "input_df = pd.DataFrame({\"price\":[price], \"description_lenght\":[description_lenght]})\n",
        "input_df\n",
        "predict_data = use_model.predict(input_df)\n",
        "\n",
        "predict_data[0]"
      ],
      "execution_count": null,
      "outputs": [
        {
          "output_type": "execute_result",
          "data": {
            "text/plain": [
              "4.6122325460765605"
            ]
          },
          "metadata": {
            "tags": []
          },
          "execution_count": 139
        }
      ]
    },
    {
      "cell_type": "markdown",
      "metadata": {
        "id": "YawlReGkAeCo"
      },
      "source": [
        "only price and description lenght can't use to predict accurate point so we need to imporve feature to gain more accuracy "
      ]
    }
  ]
}